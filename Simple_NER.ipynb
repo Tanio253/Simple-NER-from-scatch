{
  "cells": [
    {
      "cell_type": "code",
      "source": [
        "from google.colab import drive\n",
        "drive.mount(\"/content/drive\")"
      ],
      "metadata": {
        "colab": {
          "base_uri": "https://localhost:8080/"
        },
        "id": "ghwdLQAdKoCb",
        "outputId": "ad4b9a14-bcc9-460b-9078-c2afdfbd3331"
      },
      "execution_count": 25,
      "outputs": [
        {
          "output_type": "stream",
          "name": "stdout",
          "text": [
            "Drive already mounted at /content/drive; to attempt to forcibly remount, call drive.mount(\"/content/drive\", force_remount=True).\n"
          ]
        }
      ]
    },
    {
      "cell_type": "code",
      "source": [
        "!apt-get install -y git"
      ],
      "metadata": {
        "colab": {
          "base_uri": "https://localhost:8080/"
        },
        "id": "YKqxq_ZRROdp",
        "outputId": "65c9575f-f12d-44a5-cdfd-2d76b34372d3"
      },
      "execution_count": 26,
      "outputs": [
        {
          "output_type": "stream",
          "name": "stdout",
          "text": [
            "Reading package lists... Done\n",
            "Building dependency tree... Done\n",
            "Reading state information... Done\n",
            "git is already the newest version (1:2.34.1-1ubuntu1.10).\n",
            "0 upgraded, 0 newly installed, 0 to remove and 16 not upgraded.\n"
          ]
        }
      ]
    },
    {
      "cell_type": "code",
      "source": [
        "!git clone https://github.com/Tanio253/Simple-NER-from-scatch.git"
      ],
      "metadata": {
        "colab": {
          "base_uri": "https://localhost:8080/"
        },
        "id": "TAXys5pCSVZS",
        "outputId": "d136b766-e5e8-4123-abbc-553ef6dcbf8f"
      },
      "execution_count": 27,
      "outputs": [
        {
          "output_type": "stream",
          "name": "stdout",
          "text": [
            "Cloning into 'Simple-NER-from-scatch'...\n",
            "remote: Enumerating objects: 3, done.\u001b[K\n",
            "remote: Counting objects: 100% (3/3), done.\u001b[K\n",
            "remote: Compressing objects: 100% (2/2), done.\u001b[K\n",
            "remote: Total 3 (delta 0), reused 0 (delta 0), pack-reused 0\u001b[K\n",
            "Receiving objects: 100% (3/3), done.\n",
            "fatal: destination path 'Simple-NER-from-scatch' already exists and is not an empty directory.\n"
          ]
        }
      ]
    },
    {
      "cell_type": "code",
      "execution_count": 28,
      "metadata": {
        "id": "x85yhha4dOr0"
      },
      "outputs": [],
      "source": [
        "import torch\n",
        "import pprint\n",
        "from torch.utils.data import DataLoader\n",
        "from functools import partial\n",
        "pp = pprint.PrettyPrinter()"
      ]
    },
    {
      "cell_type": "code",
      "execution_count": 29,
      "metadata": {
        "id": "9xfoKiJ5tRu6"
      },
      "outputs": [],
      "source": [
        "corpus = ['Lily will go to America on Saturday!',\n",
        "             'Tom sits next to Sarah on the math class',\n",
        "             'Soyeon will never forget her trip to Japan with her family',\n",
        "             'Thanh will marry Nghia on June 16th, wont he',\n",
        "             'My mom went shopping with Olivia, which is my aunt, on Sunday afternoon, did she?']"
      ]
    },
    {
      "cell_type": "code",
      "source": [
        "names = [\"lily\",\"tom\",\"sarah\",\"soyeon\",\"thanh\",\"nghia\",\"olivia\"]"
      ],
      "metadata": {
        "id": "eCOeDNUMO0nL"
      },
      "execution_count": 30,
      "outputs": []
    },
    {
      "cell_type": "code",
      "execution_count": 31,
      "metadata": {
        "id": "SEAIo9h5cvHe"
      },
      "outputs": [],
      "source": [
        "def custom_tokenization(sentence):\n",
        "  #lowercase the word\n",
        "  tokens = sentence.lower()\n",
        "  #remove punctuation\n",
        "  punctuation = ['?','!',\",\"]\n",
        "  for p in punctuation:\n",
        "    tokens = tokens.replace(p,'')\n",
        "  #split to token\n",
        "  tokens = tokens.split()\n",
        "  return tokens"
      ]
    },
    {
      "cell_type": "code",
      "execution_count": 32,
      "metadata": {
        "colab": {
          "base_uri": "https://localhost:8080/"
        },
        "id": "odrAdcdmhuEa",
        "outputId": "43a326ae-10a9-41ff-fb35-3ec30fb1a841"
      },
      "outputs": [
        {
          "output_type": "stream",
          "name": "stdout",
          "text": [
            "[['lily', 'will', 'go', 'to', 'america', 'on', 'saturday'], ['tom', 'sits', 'next', 'to', 'sarah', 'on', 'the', 'math', 'class'], ['soyeon', 'will', 'never', 'forget', 'her', 'trip', 'to', 'japan', 'with', 'her', 'family'], ['thanh', 'will', 'marry', 'nghia', 'on', 'june', '16th', 'wont', 'he'], ['my', 'mom', 'went', 'shopping', 'with', 'olivia', 'which', 'is', 'my', 'aunt', 'on', 'sunday', 'afternoon', 'did', 'she']]\n"
          ]
        }
      ],
      "source": [
        "train_sentences = [custom_tokenization(sentence) for sentence in corpus]\n",
        "print(train_sentences)"
      ]
    },
    {
      "cell_type": "code",
      "execution_count": 33,
      "metadata": {
        "colab": {
          "base_uri": "https://localhost:8080/"
        },
        "id": "JozajLsQubbd",
        "outputId": "6cea912b-9ab4-48dd-b7b1-8fad0ff8cae8"
      },
      "outputs": [
        {
          "output_type": "stream",
          "name": "stdout",
          "text": [
            "[[1, 0, 0, 0, 0, 0, 0],\n",
            " [1, 0, 0, 0, 1, 0, 0, 0, 0],\n",
            " [1, 0, 0, 0, 0, 0, 0, 0, 0, 0, 0],\n",
            " [1, 0, 0, 1, 0, 0, 0, 0, 0],\n",
            " [0, 0, 0, 0, 0, 1, 0, 0, 0, 0, 0, 0, 0, 0, 0]]\n"
          ]
        }
      ],
      "source": [
        "train_labels = [[1 if word in names else 0 for word in sentence] for sentence in train_sentences]\n",
        "pp.pprint(train_labels)"
      ]
    },
    {
      "cell_type": "code",
      "execution_count": 34,
      "metadata": {
        "id": "ukWUC-V6ikK2"
      },
      "outputs": [],
      "source": [
        "vocabulary = set(sorted([word for sentence in train_sentences for word in sentence]))"
      ]
    },
    {
      "cell_type": "code",
      "execution_count": 35,
      "metadata": {
        "id": "FiNC0Pxcn9PW"
      },
      "outputs": [],
      "source": [
        "# Add the unknown token and padden token so that we can use window slide comfortably\n",
        "vocabulary.add(\"<unk>\")\n",
        "vocabulary.add(\"<pad>\")"
      ]
    },
    {
      "cell_type": "code",
      "execution_count": 36,
      "metadata": {
        "colab": {
          "base_uri": "https://localhost:8080/"
        },
        "id": "PEGjrFMGjNRq",
        "outputId": "b7aa1b5b-57dd-407c-e31c-d166d765d619"
      },
      "outputs": [
        {
          "output_type": "stream",
          "name": "stdout",
          "text": [
            "[['lily', 'will', 'go', 'to', 'america', 'on', 'saturday'], ['tom', 'sits', 'next', 'to', 'sarah', 'on', 'the', 'math', 'class'], ['soyeon', 'will', 'never', 'forget', 'her', 'trip', 'to', 'japan', 'with', 'her', 'family'], ['thanh', 'will', 'marry', 'nghia', 'on', 'june', '16th', 'wont', 'he'], ['my', 'mom', 'went', 'shopping', 'with', 'olivia', 'which', 'is', 'my', 'aunt', 'on', 'sunday', 'afternoon', 'did', 'she']]\n",
            "[[14, 25, 26, 39, 20, 22, 3], [31, 12, 29, 39, 38, 22, 16, 21, 1], [18, 25, 40, 35, 24, 42, 39, 28, 37, 24, 36], [2, 25, 7, 10, 22, 15, 41, 4, 8], [23, 27, 17, 32, 37, 9, 34, 0, 23, 30, 22, 13, 5, 19, 11]]\n"
          ]
        }
      ],
      "source": [
        "ind2word = {ind:word for ind,word in enumerate(vocabulary)}\n",
        "word2ind = {word:ind for ind,word in enumerate(vocabulary)}\n",
        "def token2id(sentence):\n",
        "  # ind = []\n",
        "  # for sentence in sentences:\n",
        "  #   index = []\n",
        "  #   for word in sentence:\n",
        "  #     print(word)\n",
        "  #     index.append(word2ind[word])\n",
        "  #   ind.append(index)\n",
        "  # return ind\n",
        "  return [word2ind[word] if word in vocabulary else word2ind[\"<unk>\"] for word in sentence]\n",
        "print(train_sentences)\n",
        "train_sentences_ind = [token2id(sentence) for sentence in train_sentences]\n",
        "print(train_sentences_ind)\n",
        "# pp.pprint(ind2word[vocab[0][1]])"
      ]
    },
    {
      "cell_type": "code",
      "execution_count": 37,
      "metadata": {
        "id": "RgWBwb1uA3Dr"
      },
      "outputs": [],
      "source": [
        "def padded_sentence(sentence,window_slide = 2):\n",
        "  pad_sentence = window_slide*[word2ind[\"<pad>\"]]\n",
        "  return pad_sentence+sentence+pad_sentence"
      ]
    },
    {
      "cell_type": "code",
      "execution_count": 38,
      "metadata": {
        "id": "lzbPtH0BFtzv"
      },
      "outputs": [],
      "source": [
        "pad_ind = word2ind[\"<pad>\"]\n",
        "unk_ind = word2ind[\"<unk>\"]"
      ]
    },
    {
      "cell_type": "code",
      "execution_count": 39,
      "metadata": {
        "id": "LomOV3KmCswe"
      },
      "outputs": [],
      "source": [
        "def custom_fn(batches,window_size,pad_ind):\n",
        "  x_batch, y_batch = zip(*batches)\n",
        "  # x_batch\n",
        "  x_batch = [custom_tokenization(x) for x in x_batch] #tokenization\n",
        "  x_batch = [token2id(x) for x in x_batch]\n",
        "  x_batch = [padded_sentence(x_batch,window_size) for x_batch in x_batch] #fill pad to either side of x_batch\n",
        "  x_batch = [torch.tensor(x_batch) for x_batch in x_batch]\n",
        "  padded_x_batch = torch.nn.utils.rnn.pad_sequence(x_batch,batch_first = True,padding_value = pad_ind)\n",
        "  #label\n",
        "  lengths = [len(y) for y in y_batch] if len(batches)>1 else [len(y_batch)]\n",
        "  y_batch = [torch.tensor(y_batch) for y_batch in y_batch]\n",
        "  padded_y_batch = torch.nn.utils.rnn.pad_sequence(y_batch,batch_first = True,padding_value = 0)\n",
        "  return padded_x_batch,padded_y_batch, lengths"
      ]
    },
    {
      "cell_type": "code",
      "execution_count": 40,
      "metadata": {
        "colab": {
          "base_uri": "https://localhost:8080/"
        },
        "id": "d4bp_iuIEBXO",
        "outputId": "a51ddbcc-343d-4448-ce74-973c691c9ff1"
      },
      "outputs": [
        {
          "output_type": "stream",
          "name": "stdout",
          "text": [
            "tensor([[33, 33, 23, 27, 17, 32, 37,  9, 34,  0, 23, 30, 22, 13,  5, 19, 11, 33,\n",
            "         33],\n",
            "        [33, 33, 18, 25, 40, 35, 24, 42, 39, 28, 37, 24, 36, 33, 33, 33, 33, 33,\n",
            "         33]])\n",
            "tensor([[0, 0, 0, 0, 0, 1, 0, 0, 0, 0, 0, 0, 0, 0, 0],\n",
            "        [1, 0, 0, 0, 0, 0, 0, 0, 0, 0, 0, 0, 0, 0, 0]])\n",
            "tensor([[33, 33,  2, 25,  7, 10, 22, 15, 41,  4,  8, 33, 33],\n",
            "        [33, 33, 31, 12, 29, 39, 38, 22, 16, 21,  1, 33, 33]])\n",
            "tensor([[1, 0, 0, 1, 0, 0, 0, 0, 0],\n",
            "        [1, 0, 0, 0, 1, 0, 0, 0, 0]])\n",
            "tensor([[33, 33, 14, 25, 26, 39, 20, 22,  3, 33, 33]])\n",
            "tensor([[1, 0, 0, 0, 0, 0, 0]])\n"
          ]
        }
      ],
      "source": [
        "train_sentences = corpus.copy()\n",
        "batch_size = 2\n",
        "shuffle = True\n",
        "window_size = 2\n",
        "pad_ind = word2ind['<pad>']\n",
        "collate_fn = partial(custom_fn,window_size = window_size,pad_ind = pad_ind)\n",
        "data = list(zip(train_sentences,train_labels))\n",
        "data = DataLoader(data,batch_size = batch_size, shuffle = shuffle,collate_fn = collate_fn)\n",
        "for x_batch, y_batch, _ in data:\n",
        "  print(x_batch)\n",
        "  print(y_batch)"
      ]
    },
    {
      "cell_type": "code",
      "execution_count": 41,
      "metadata": {
        "id": "aLgjE84pRULD"
      },
      "outputs": [],
      "source": [
        "import torch.nn as nn\n",
        "class location_reg(nn.Module):\n",
        "  def __init__(self, hidden_dim, output_dim, hyperparams, vocab_size, embed_dim):\n",
        "    super(location_reg,self).__init__()\n",
        "    self.freeze_embed = hyperparams[\"freeze_embed\"]\n",
        "    self.window_size = hyperparams[\"window_size\"]\n",
        "    # Embedding layer\n",
        "    self.embed = nn.Embedding(vocab_size,embed_dim,_freeze = self.freeze_embed)\n",
        "    # Hidden layer\n",
        "    self.hidden = nn.Sequential(\n",
        "        nn.Linear((self.window_size*2+1)*embed_dim,hidden_dim),\n",
        "        nn.Tanh(),\n",
        "    )\n",
        "    # Output layer (B,L~,H)\n",
        "    self.output = nn.Linear(hidden_dim,1)\n",
        "    self.probability = nn.Sigmoid()\n",
        "  def forward(self,batch):\n",
        "    B, L = batch.shape\n",
        "    batch_unfold = batch.unfold(1,self.window_size*2+1,1) # B,L~,W\n",
        "    _, adjusted_length, _ = batch_unfold.size()\n",
        "    out = self.embed(batch_unfold)\n",
        "    out = out.view(B,adjusted_length,-1)\n",
        "    out = self.hidden(out)\n",
        "    out = self.output(out)\n",
        "    out = self.probability(out)\n",
        "    out = out.view(B,-1)\n",
        "    return out"
      ]
    },
    {
      "cell_type": "code",
      "execution_count": 42,
      "metadata": {
        "id": "VBOmm8jAFkax"
      },
      "outputs": [],
      "source": [
        "def loss_func(x_batch,y_batch,lengths):\n",
        "  bce = nn.BCELoss()\n",
        "  # print(x_batch)\n",
        "  # print(y_batch)\n",
        "  loss = bce(x_batch,y_batch)\n",
        "  loss /= torch.sum(torch.tensor(lengths)).float()\n",
        "  return loss"
      ]
    },
    {
      "cell_type": "code",
      "execution_count": 43,
      "metadata": {
        "id": "rthzjGhtKBLZ"
      },
      "outputs": [],
      "source": [
        "hidden_dim = 64\n",
        "output_dim = 128\n",
        "embed_dim = 32\n",
        "hyperparams = {\n",
        "    \"freeze_embed\":False,\n",
        "    'window_size':2,\n",
        "    'learning_rate':5e-4,\n",
        "}\n",
        "vocab_size = len(vocabulary)\n",
        "model = location_reg(hidden_dim,output_dim,hyperparams,vocab_size,embed_dim)"
      ]
    },
    {
      "cell_type": "code",
      "execution_count": 44,
      "metadata": {
        "id": "MgHD9ntdJd6d"
      },
      "outputs": [],
      "source": [
        "optimizer = torch.optim.Adam(model.parameters(),hyperparams[\"learning_rate\"])\n",
        "def train_epoch(model,loader,optimizer):\n",
        "  total_loss = 0\n",
        "  for x_batch, y_batch, lengths in loader:\n",
        "    optimizer.zero_grad()\n",
        "    output = model(x_batch)\n",
        "    loss = loss_func(output.float(),y_batch.float(),lengths)\n",
        "    loss.backward()\n",
        "    optimizer.step() # optimizer the parameters\n",
        "    total_loss+=loss.item()\n",
        "  return total_loss\n",
        "def train(model,loader,optimizer,num_epochs = 1000):\n",
        "  for e in range(num_epochs):\n",
        "    loss = train_epoch(model,loader,optimizer)\n",
        "    if (e%100==0): print(\"Loss at epoch %d is: %.8f\" %(e,loss))\n"
      ]
    },
    {
      "cell_type": "code",
      "execution_count": 45,
      "metadata": {
        "colab": {
          "base_uri": "https://localhost:8080/"
        },
        "id": "IAJ5F-83Lyvq",
        "outputId": "b9a50f14-f7e7-483b-9deb-a04dd76b9f7a"
      },
      "outputs": [
        {
          "output_type": "stream",
          "name": "stdout",
          "text": [
            "Loss at epoch 0 is: 0.81916051\n",
            "Loss at epoch 100 is: 0.02390070\n",
            "Loss at epoch 200 is: 0.00428474\n",
            "Loss at epoch 300 is: 0.00190794\n",
            "Loss at epoch 400 is: 0.00229514\n",
            "Loss at epoch 500 is: 0.00148804\n",
            "Loss at epoch 600 is: 0.00081343\n",
            "Loss at epoch 700 is: 0.00071269\n",
            "Loss at epoch 800 is: 0.00055020\n",
            "Loss at epoch 900 is: 0.00043352\n"
          ]
        }
      ],
      "source": [
        "train(model,data,optimizer)"
      ]
    },
    {
      "cell_type": "code",
      "source": [
        "# For prediction\n",
        "test_sent = [\"Lisa will come to Thailand on Sunday\",\"Helios is now the king of Jordan\"]\n",
        "test_label = [[1,0,0,0,0,0,0],[1,0,0,0,0,0,0]]\n",
        "test_batch = list(zip(test_sent,test_label))\n",
        "batch_size = 2\n",
        "print(test_batch)\n",
        "shuffle = True\n",
        "test_ld = DataLoader(test_batch,batch_size = batch_size,shuffle = shuffle,collate_fn = collate_fn)\n",
        "for x_batch, y_batch , _ in test_ld:\n",
        "  print(model(x_batch))\n",
        "  print(y_batch)"
      ],
      "metadata": {
        "colab": {
          "base_uri": "https://localhost:8080/"
        },
        "id": "-Oz3XIwmyZM9",
        "outputId": "afe9bd6e-3272-427e-cbd7-a5b678b4bfaa"
      },
      "execution_count": 46,
      "outputs": [
        {
          "output_type": "stream",
          "name": "stdout",
          "text": [
            "[('Lisa will come to Thailand on Sunday', [1, 0, 0, 0, 0, 0, 0]), ('Helios is now the king of Jordan', [1, 0, 0, 0, 0, 0, 0])]\n",
            "tensor([[1.1395e-01, 9.9435e-01, 1.8362e-02, 9.1821e-01, 9.6556e-01, 3.5669e-01,\n",
            "         5.6825e-04],\n",
            "        [9.7992e-01, 1.2436e-01, 1.3700e-03, 1.1360e-02, 1.9920e-01, 2.0421e-04,\n",
            "         8.1018e-05]], grad_fn=<ViewBackward0>)\n",
            "tensor([[1, 0, 0, 0, 0, 0, 0],\n",
            "        [1, 0, 0, 0, 0, 0, 0]])\n"
          ]
        }
      ]
    }
  ],
  "metadata": {
    "colab": {
      "provenance": []
    },
    "kernelspec": {
      "display_name": "Python 3",
      "name": "python3"
    },
    "language_info": {
      "name": "python"
    }
  },
  "nbformat": 4,
  "nbformat_minor": 0
}