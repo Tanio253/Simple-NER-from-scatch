{
 "cells": [
  {
   "cell_type": "code",
   "execution_count": 158,
   "metadata": {
    "id": "x85yhha4dOr0"
   },
   "outputs": [],
   "source": [
    "import torch\n",
    "import pprint\n",
    "from torch.utils.data import DataLoader\n",
    "from functools import partial\n",
    "pp = pprint.PrettyPrinter()"
   ]
  },
  {
   "cell_type": "code",
   "execution_count": 159,
   "metadata": {
    "id": "9xfoKiJ5tRu6"
   },
   "outputs": [],
   "source": [
    "# corpus = ['Lily will go to America on Saturday!',\n",
    "#              'My sister sits next to Sarah on the math class',\n",
    "#              'My mom will never forget her trip to Japan with her family',\n",
    "#              'he will marry Nghia on June 16th, wont Thanh',\n",
    "#              'My mom went shopping with Olivia, which is my aunt, on Sunday afternoon, did she?',\n",
    "#             'What did Anna do last night?',\n",
    "#              'The cop will catch up the burglar, whose name is Kaka, is a famouse footballer.',\n",
    "#              'Why are you going to Hoang Sa island?']"
   ]
  },
  {
   "cell_type": "code",
   "execution_count": 160,
   "metadata": {},
   "outputs": [],
   "source": [
    "corpus = [\n",
    "    \"Jennifer and Michael visited the Eiffel Tower in Paris last summer.\",\n",
    "    \"John and Emily plan to travel to London for their anniversary.\",\n",
    "    \"Elon Musk is the CEO of SpaceX and Tesla, Inc.\",\n",
    "    \"Dr. Smith will speak at the conference in New York next week.\",\n",
    "    \"Alice works as a software engineer at Google.\",\n",
    "    \"The famous painter, Pablo Picasso, was born in Spain.\",\n",
    "    \"I met Michelle Obama at the charity event last month.\",\n",
    "    \"Steve Jobs co-founded Apple Inc. with Steve Wozniak.\",\n",
    "    \"Mount Everest is the highest peak in the world, located in Nepal.\",\n",
    "    \"My favorite actor is Tom Hanks.\",\n",
    "    \"Taylor Swift won the Grammy Award for Album of the Year.\",\n",
    "    \"The Great Wall of China is a UNESCO World Heritage Site.\",\n",
    "    \"Queen Elizabeth II has been the reigning monarch of the United Kingdom since 1952.\",\n",
    "    \"Stephen Hawking was a renowned theoretical physicist.\",\n",
    "    \"Harrison Ford played the role of Indiana Jones in the movie series.\",\n",
    "]\n"
   ]
  },
  {
   "cell_type": "code",
   "execution_count": 161,
   "metadata": {
    "id": "eCOeDNUMO0nL"
   },
   "outputs": [],
   "source": [
    "#names = [\"lily\",\"sarah\",\"thanh\",\"nghia\",\"olivia\",'anna','kaka']\n",
    "names = ['jennifer','michael','john','emily','elon','musk','smith','alice','pablo','picasso','michelle','steve','jobs','steve','wozniak','tom','hanks','taylor','swift','elizabeth','stephen','hawking','harrison','ford']"
   ]
  },
  {
   "cell_type": "code",
   "execution_count": 162,
   "metadata": {
    "id": "SEAIo9h5cvHe"
   },
   "outputs": [],
   "source": [
    "def custom_tokenization(sentence):\n",
    "  #lowercase the word\n",
    "  tokens = sentence.lower()\n",
    "  #remove punctuation\n",
    "  punctuation = ['?','!',\",\",'.']\n",
    "  for p in punctuation:\n",
    "    tokens = tokens.replace(p,'')\n",
    "  #split to token\n",
    "  tokens = tokens.split()\n",
    "  return tokens"
   ]
  },
  {
   "cell_type": "code",
   "execution_count": 163,
   "metadata": {
    "colab": {
     "base_uri": "https://localhost:8080/"
    },
    "id": "odrAdcdmhuEa",
    "outputId": "43a326ae-10a9-41ff-fb35-3ec30fb1a841"
   },
   "outputs": [
    {
     "name": "stdout",
     "output_type": "stream",
     "text": [
      "[['jennifer', 'and', 'michael', 'visited', 'the', 'eiffel', 'tower', 'in', 'paris', 'last', 'summer'], ['john', 'and', 'emily', 'plan', 'to', 'travel', 'to', 'london', 'for', 'their', 'anniversary'], ['elon', 'musk', 'is', 'the', 'ceo', 'of', 'spacex', 'and', 'tesla', 'inc'], ['dr', 'smith', 'will', 'speak', 'at', 'the', 'conference', 'in', 'new', 'york', 'next', 'week'], ['alice', 'works', 'as', 'a', 'software', 'engineer', 'at', 'google'], ['the', 'famous', 'painter', 'pablo', 'picasso', 'was', 'born', 'in', 'spain'], ['i', 'met', 'michelle', 'obama', 'at', 'the', 'charity', 'event', 'last', 'month'], ['steve', 'jobs', 'co-founded', 'apple', 'inc', 'with', 'steve', 'wozniak'], ['mount', 'everest', 'is', 'the', 'highest', 'peak', 'in', 'the', 'world', 'located', 'in', 'nepal'], ['my', 'favorite', 'actor', 'is', 'tom', 'hanks'], ['taylor', 'swift', 'won', 'the', 'grammy', 'award', 'for', 'album', 'of', 'the', 'year'], ['the', 'great', 'wall', 'of', 'china', 'is', 'a', 'unesco', 'world', 'heritage', 'site'], ['queen', 'elizabeth', 'ii', 'has', 'been', 'the', 'reigning', 'monarch', 'of', 'the', 'united', 'kingdom', 'since', '1952'], ['stephen', 'hawking', 'was', 'a', 'renowned', 'theoretical', 'physicist'], ['harrison', 'ford', 'played', 'the', 'role', 'of', 'indiana', 'jones', 'in', 'the', 'movie', 'series']]\n"
     ]
    }
   ],
   "source": [
    "train_sentences = [custom_tokenization(sentence) for sentence in corpus] #test tokenization\n",
    "print(train_sentences)"
   ]
  },
  {
   "cell_type": "code",
   "execution_count": 164,
   "metadata": {
    "colab": {
     "base_uri": "https://localhost:8080/"
    },
    "id": "JozajLsQubbd",
    "outputId": "6cea912b-9ab4-48dd-b7b1-8fad0ff8cae8"
   },
   "outputs": [
    {
     "name": "stdout",
     "output_type": "stream",
     "text": [
      "[[1, 0, 1, 0, 0, 0, 0, 0, 0, 0, 0],\n",
      " [1, 0, 1, 0, 0, 0, 0, 0, 0, 0, 0],\n",
      " [1, 1, 0, 0, 0, 0, 0, 0, 0, 0],\n",
      " [0, 1, 0, 0, 0, 0, 0, 0, 0, 0, 0, 0],\n",
      " [1, 0, 0, 0, 0, 0, 0, 0],\n",
      " [0, 0, 0, 1, 1, 0, 0, 0, 0],\n",
      " [0, 0, 1, 0, 0, 0, 0, 0, 0, 0],\n",
      " [1, 1, 0, 0, 0, 0, 1, 1],\n",
      " [0, 0, 0, 0, 0, 0, 0, 0, 0, 0, 0, 0],\n",
      " [0, 0, 0, 0, 1, 1],\n",
      " [1, 1, 0, 0, 0, 0, 0, 0, 0, 0, 0],\n",
      " [0, 0, 0, 0, 0, 0, 0, 0, 0, 0, 0],\n",
      " [0, 1, 0, 0, 0, 0, 0, 0, 0, 0, 0, 0, 0, 0],\n",
      " [1, 1, 0, 0, 0, 0, 0],\n",
      " [1, 1, 0, 0, 0, 0, 0, 0, 0, 0, 0, 0]]\n"
     ]
    }
   ],
   "source": [
    "train_labels = [[1 if word in names else 0 for word in sentence] for sentence in train_sentences] #test label\n",
    "pp.pprint(train_labels)"
   ]
  },
  {
   "cell_type": "code",
   "execution_count": 165,
   "metadata": {
    "id": "ukWUC-V6ikK2"
   },
   "outputs": [],
   "source": [
    "vocabulary = set(sorted([word for sentence in train_sentences for word in sentence]))"
   ]
  },
  {
   "cell_type": "code",
   "execution_count": 166,
   "metadata": {
    "id": "FiNC0Pxcn9PW"
   },
   "outputs": [],
   "source": [
    "# Add the unknown token and padden token so that we can use window slide comfortably\n",
    "vocabulary.add(\"<unk>\")\n",
    "vocabulary.add(\"<pad>\")"
   ]
  },
  {
   "cell_type": "code",
   "execution_count": 167,
   "metadata": {
    "colab": {
     "base_uri": "https://localhost:8080/"
    },
    "id": "PEGjrFMGjNRq",
    "outputId": "b7aa1b5b-57dd-407c-e31c-d166d765d619"
   },
   "outputs": [
    {
     "name": "stdout",
     "output_type": "stream",
     "text": [
      "[['jennifer', 'and', 'michael', 'visited', 'the', 'eiffel', 'tower', 'in', 'paris', 'last', 'summer'], ['john', 'and', 'emily', 'plan', 'to', 'travel', 'to', 'london', 'for', 'their', 'anniversary'], ['elon', 'musk', 'is', 'the', 'ceo', 'of', 'spacex', 'and', 'tesla', 'inc'], ['dr', 'smith', 'will', 'speak', 'at', 'the', 'conference', 'in', 'new', 'york', 'next', 'week'], ['alice', 'works', 'as', 'a', 'software', 'engineer', 'at', 'google'], ['the', 'famous', 'painter', 'pablo', 'picasso', 'was', 'born', 'in', 'spain'], ['i', 'met', 'michelle', 'obama', 'at', 'the', 'charity', 'event', 'last', 'month'], ['steve', 'jobs', 'co-founded', 'apple', 'inc', 'with', 'steve', 'wozniak'], ['mount', 'everest', 'is', 'the', 'highest', 'peak', 'in', 'the', 'world', 'located', 'in', 'nepal'], ['my', 'favorite', 'actor', 'is', 'tom', 'hanks'], ['taylor', 'swift', 'won', 'the', 'grammy', 'award', 'for', 'album', 'of', 'the', 'year'], ['the', 'great', 'wall', 'of', 'china', 'is', 'a', 'unesco', 'world', 'heritage', 'site'], ['queen', 'elizabeth', 'ii', 'has', 'been', 'the', 'reigning', 'monarch', 'of', 'the', 'united', 'kingdom', 'since', '1952'], ['stephen', 'hawking', 'was', 'a', 'renowned', 'theoretical', 'physicist'], ['harrison', 'ford', 'played', 'the', 'role', 'of', 'indiana', 'jones', 'in', 'the', 'movie', 'series']]\n",
      "[[31, 2, 115, 7, 50, 94, 114, 28, 76, 10, 92],\n",
      " [54, 2, 87, 8, 15, 60, 15, 72, 65, 14, 71],\n",
      " [109, 73, 68, 50, 97, 86, 12, 2, 6, 32],\n",
      " [103, 75, 108, 18, 66, 50, 16, 28, 51, 40, 37, 95],\n",
      " [56, 29, 33, 69, 104, 43, 66, 64],\n",
      " [50, 113, 84, 62, 25, 63, 20, 28, 91],\n",
      " [23, 112, 98, 3, 66, 50, 90, 110, 10, 83],\n",
      " [46, 30, 11, 99, 32, 100, 46, 111],\n",
      " [52, 85, 68, 50, 17, 81, 28, 50, 106, 49, 28, 13],\n",
      " [53, 44, 0, 68, 26, 101],\n",
      " [47, 34, 38, 50, 57, 70, 65, 61, 86, 50, 80],\n",
      " [50, 55, 79, 86, 93, 68, 69, 58, 106, 78, 39],\n",
      " [102, 35, 96, 77, 9, 50, 22, 24, 86, 50, 88, 67, 19, 4],\n",
      " [48, 107, 63, 69, 45, 36, 74],\n",
      " [21, 27, 41, 50, 82, 86, 42, 1, 28, 50, 105, 59]]\n"
     ]
    }
   ],
   "source": [
    "ind2word = {ind:word for ind,word in enumerate(vocabulary)}\n",
    "word2ind = {word:ind for ind,word in enumerate(vocabulary)}\n",
    "def token2id(sentence):\n",
    "  # ind = []\n",
    "  # for sentence in sentences:\n",
    "  #   index = []\n",
    "  #   for word in sentence:\n",
    "  #     print(word)\n",
    "  #     index.append(word2ind[word])\n",
    "  #   ind.append(index)\n",
    "  # return ind\n",
    "  return [word2ind[word] if word in vocabulary else word2ind[\"<unk>\"] for word in sentence]\n",
    "print(train_sentences)\n",
    "train_sentences_ind = [token2id(sentence) for sentence in train_sentences]\n",
    "pp.pprint(train_sentences_ind)\n",
    "# pp.pprint(ind2word[vocab[0][1]])"
   ]
  },
  {
   "cell_type": "code",
   "execution_count": 168,
   "metadata": {
    "id": "RgWBwb1uA3Dr"
   },
   "outputs": [],
   "source": [
    "def padded_sentence(sentence,window_slide = 2):\n",
    "  pad_sentence = window_slide*[word2ind[\"<pad>\"]]\n",
    "  return pad_sentence+sentence+pad_sentence"
   ]
  },
  {
   "cell_type": "code",
   "execution_count": 169,
   "metadata": {
    "id": "lzbPtH0BFtzv"
   },
   "outputs": [],
   "source": [
    "pad_ind = word2ind[\"<pad>\"]\n",
    "unk_ind = word2ind[\"<unk>\"]"
   ]
  },
  {
   "cell_type": "code",
   "execution_count": 170,
   "metadata": {
    "id": "LomOV3KmCswe"
   },
   "outputs": [],
   "source": [
    "def custom_fn(batches,window_size,pad_ind):\n",
    "  x_batch, y_batch = zip(*batches)\n",
    "  # x_batch\n",
    "  x_batch = [custom_tokenization(x) for x in x_batch] #tokenization\n",
    "  x_batch = [token2id(x) for x in x_batch]\n",
    "  x_batch = [padded_sentence(x_batch,window_size) for x_batch in x_batch] #fill pad to either side of x_batch\n",
    "  x_batch = [torch.tensor(x_batch) for x_batch in x_batch]\n",
    "  padded_x_batch = torch.nn.utils.rnn.pad_sequence(x_batch,batch_first = True,padding_value = pad_ind)\n",
    "  #label\n",
    "  lengths = [len(y) for y in y_batch] if len(batches)>1 else [len(y_batch)]\n",
    "  y_batch = [torch.tensor(y_batch) for y_batch in y_batch]\n",
    "  padded_y_batch = torch.nn.utils.rnn.pad_sequence(y_batch,batch_first = True,padding_value = 0)\n",
    "  return padded_x_batch,padded_y_batch, lengths"
   ]
  },
  {
   "cell_type": "code",
   "execution_count": 171,
   "metadata": {
    "colab": {
     "base_uri": "https://localhost:8080/"
    },
    "id": "d4bp_iuIEBXO",
    "outputId": "a51ddbcc-343d-4448-ce74-973c691c9ff1"
   },
   "outputs": [
    {
     "name": "stdout",
     "output_type": "stream",
     "text": [
      "tensor([[ 89,  89,  23, 112,  98,   3,  66,  50,  90, 110,  10,  83,  89,  89,\n",
      "          89,  89,  89,  89],\n",
      "        [ 89,  89, 102,  35,  96,  77,   9,  50,  22,  24,  86,  50,  88,  67,\n",
      "          19,   4,  89,  89]])\n",
      "tensor([[0, 0, 1, 0, 0, 0, 0, 0, 0, 0, 0, 0, 0, 0],\n",
      "        [0, 1, 0, 0, 0, 0, 0, 0, 0, 0, 0, 0, 0, 0]])\n",
      "tensor([[ 89,  89,  21,  27,  41,  50,  82,  86,  42,   1,  28,  50, 105,  59,\n",
      "          89,  89],\n",
      "        [ 89,  89,  52,  85,  68,  50,  17,  81,  28,  50, 106,  49,  28,  13,\n",
      "          89,  89]])\n",
      "tensor([[1, 1, 0, 0, 0, 0, 0, 0, 0, 0, 0, 0],\n",
      "        [0, 0, 0, 0, 0, 0, 0, 0, 0, 0, 0, 0]])\n",
      "tensor([[ 89,  89, 109,  73,  68,  50,  97,  86,  12,   2,   6,  32,  89,  89,\n",
      "          89],\n",
      "        [ 89,  89,  50,  55,  79,  86,  93,  68,  69,  58, 106,  78,  39,  89,\n",
      "          89]])\n",
      "tensor([[1, 1, 0, 0, 0, 0, 0, 0, 0, 0, 0],\n",
      "        [0, 0, 0, 0, 0, 0, 0, 0, 0, 0, 0]])\n",
      "tensor([[ 89,  89,  56,  29,  33,  69, 104,  43,  66,  64,  89,  89],\n",
      "        [ 89,  89,  46,  30,  11,  99,  32, 100,  46, 111,  89,  89]])\n",
      "tensor([[1, 0, 0, 0, 0, 0, 0, 0],\n",
      "        [1, 1, 0, 0, 0, 0, 1, 1]])\n",
      "tensor([[ 89,  89,  48, 107,  63,  69,  45,  36,  74,  89,  89,  89,  89],\n",
      "        [ 89,  89,  50, 113,  84,  62,  25,  63,  20,  28,  91,  89,  89]])\n",
      "tensor([[1, 1, 0, 0, 0, 0, 0, 0, 0],\n",
      "        [0, 0, 0, 1, 1, 0, 0, 0, 0]])\n",
      "tensor([[89, 89, 47, 34, 38, 50, 57, 70, 65, 61, 86, 50, 80, 89, 89],\n",
      "        [89, 89, 54,  2, 87,  8, 15, 60, 15, 72, 65, 14, 71, 89, 89]])\n",
      "tensor([[1, 1, 0, 0, 0, 0, 0, 0, 0, 0, 0],\n",
      "        [1, 0, 1, 0, 0, 0, 0, 0, 0, 0, 0]])\n",
      "tensor([[ 89,  89,  31,   2, 115,   7,  50,  94, 114,  28,  76,  10,  92,  89,\n",
      "          89,  89],\n",
      "        [ 89,  89, 103,  75, 108,  18,  66,  50,  16,  28,  51,  40,  37,  95,\n",
      "          89,  89]])\n",
      "tensor([[1, 0, 1, 0, 0, 0, 0, 0, 0, 0, 0, 0],\n",
      "        [0, 1, 0, 0, 0, 0, 0, 0, 0, 0, 0, 0]])\n",
      "tensor([[ 89,  89,  53,  44,   0,  68,  26, 101,  89,  89]])\n",
      "tensor([[0, 0, 0, 0, 1, 1]])\n"
     ]
    }
   ],
   "source": [
    "batch_size = 2\n",
    "shuffle = True\n",
    "window_size = 2\n",
    "pad_ind = word2ind['<pad>']\n",
    "collate_fn = partial(custom_fn,window_size = window_size,pad_ind = pad_ind)\n",
    "data = list(zip(corpus,train_labels))\n",
    "data = DataLoader(data,batch_size = batch_size, shuffle = shuffle,collate_fn = collate_fn)\n",
    "for x_batch, y_batch, _ in data:\n",
    "  print(x_batch)\n",
    "  print(y_batch)"
   ]
  },
  {
   "cell_type": "code",
   "execution_count": 172,
   "metadata": {
    "id": "aLgjE84pRULD"
   },
   "outputs": [],
   "source": [
    "import torch.nn as nn\n",
    "class name_reg(nn.Module):\n",
    "  def __init__(self, hidden_dim, output_dim, hyperparams, vocab_size, embed_dim):\n",
    "    super(location_reg,self).__init__()\n",
    "    self.freeze_embed = hyperparams[\"freeze_embed\"]\n",
    "    self.window_size = hyperparams[\"window_size\"]\n",
    "    # Embedding layer\n",
    "    self.embed = nn.Embedding(vocab_size,embed_dim,_freeze = self.freeze_embed)\n",
    "    # Hidden layer\n",
    "    self.hidden = nn.Sequential(\n",
    "        nn.Linear((self.window_size*2+1)*embed_dim,hidden_dim),\n",
    "        nn.Tanh(),\n",
    "    )\n",
    "    # Output layer (B,L~,H)\n",
    "    self.output = nn.Linear(hidden_dim,1)\n",
    "    self.probability = nn.Sigmoid()\n",
    "  def forward(self,batch):\n",
    "    B, L = batch.shape\n",
    "    batch_unfold = batch.unfold(1,self.window_size*2+1,1) # B,L~,W\n",
    "    _, adjusted_length, _ = batch_unfold.size()\n",
    "    out = self.embed(batch_unfold)\n",
    "    out = out.view(B,adjusted_length,-1)\n",
    "    out = self.hidden(out)\n",
    "    out = self.output(out)\n",
    "    out = self.probability(out)\n",
    "    out = out.view(B,-1)\n",
    "    return out"
   ]
  },
  {
   "cell_type": "code",
   "execution_count": 173,
   "metadata": {
    "id": "VBOmm8jAFkax"
   },
   "outputs": [],
   "source": [
    "def loss_func(x_batch,y_batch,lengths):\n",
    "  bce = nn.BCELoss()\n",
    "  # print(x_batch)\n",
    "  # print(y_batch)\n",
    "  loss = bce(x_batch,y_batch)\n",
    "  loss /= torch.sum(torch.tensor(lengths)).float()\n",
    "  return loss"
   ]
  },
  {
   "cell_type": "code",
   "execution_count": 174,
   "metadata": {
    "id": "rthzjGhtKBLZ"
   },
   "outputs": [],
   "source": [
    "hidden_dim = 64\n",
    "output_dim = 128\n",
    "embed_dim = 32\n",
    "hyperparams = {\n",
    "    \"freeze_embed\":False,\n",
    "    'window_size':2,\n",
    "    'learning_rate':5e-4,\n",
    "}\n",
    "vocab_size = len(vocabulary)\n",
    "model = location_reg(hidden_dim,output_dim,hyperparams,vocab_size,embed_dim)"
   ]
  },
  {
   "cell_type": "code",
   "execution_count": 175,
   "metadata": {
    "id": "MgHD9ntdJd6d"
   },
   "outputs": [],
   "source": [
    "optimizer = torch.optim.Adam(model.parameters(),hyperparams[\"learning_rate\"])\n",
    "def train_epoch(model,loader,optimizer):\n",
    "  total_loss = 0\n",
    "  for x_batch, y_batch, lengths in loader:\n",
    "    optimizer.zero_grad()\n",
    "    output = model(x_batch)\n",
    "    loss = loss_func(output.float(),y_batch.float(),lengths)\n",
    "    loss.backward()\n",
    "    optimizer.step() # optimizer the parameters\n",
    "    total_loss+=loss.item()\n",
    "  return total_loss\n",
    "def train(model,loader,optimizer,num_epochs = 1000):\n",
    "  for e in range(num_epochs):\n",
    "    loss = train_epoch(model,loader,optimizer)\n",
    "    if (e%100==0): print(\"Loss at epoch %d is: %.8f\" %(e,loss))\n"
   ]
  },
  {
   "cell_type": "code",
   "execution_count": 176,
   "metadata": {
    "colab": {
     "base_uri": "https://localhost:8080/"
    },
    "id": "IAJ5F-83Lyvq",
    "outputId": "b9a50f14-f7e7-483b-9deb-a04dd76b9f7a"
   },
   "outputs": [
    {
     "name": "stdout",
     "output_type": "stream",
     "text": [
      "Loss at epoch 0 is: 0.89187053\n",
      "Loss at epoch 100 is: 0.07151346\n",
      "Loss at epoch 200 is: 0.00719415\n",
      "Loss at epoch 300 is: 0.00456269\n",
      "Loss at epoch 400 is: 0.00086311\n",
      "Loss at epoch 500 is: 0.00093357\n",
      "Loss at epoch 600 is: 0.00070348\n",
      "Loss at epoch 700 is: 0.00010459\n",
      "Loss at epoch 800 is: 0.00010680\n",
      "Loss at epoch 900 is: 0.00006843\n"
     ]
    }
   ],
   "source": [
    "train(model,data,optimizer)"
   ]
  },
  {
   "cell_type": "code",
   "execution_count": 178,
   "metadata": {
    "colab": {
     "base_uri": "https://localhost:8080/"
    },
    "id": "-Oz3XIwmyZM9",
    "outputId": "afe9bd6e-3272-427e-cbd7-a5b678b4bfaa"
   },
   "outputs": [
    {
     "name": "stdout",
     "output_type": "stream",
     "text": [
      "[('Lisa will come to Thailand on Sunday', [1, 0, 0, 0, 0, 0, 0]), ('I met Jordan at the Washington airport', [0, 0, 1, 0, 0, 0, 0]), ('What did Anna do last night?', [0, 0, 1, 0, 0, 0])]\n",
      "tensor([[1.2942e-03, 6.6517e-02, 3.0294e-01, 2.1764e-06, 2.0040e-06, 2.4670e-06,\n",
      "         1.3860e-05],\n",
      "        [9.8770e-01, 9.5520e-01, 9.6007e-01, 8.0925e-02, 7.5799e-01, 1.0093e-01,\n",
      "         4.9570e-01]], grad_fn=<ViewBackward0>)\n",
      "tensor([[0, 0, 1, 0, 0, 0, 0],\n",
      "        [1, 0, 0, 0, 0, 0, 0]])\n",
      "tensor([[0.9488, 0.9945, 0.9973, 0.5066, 0.0379, 0.0095]],\n",
      "       grad_fn=<ViewBackward0>)\n",
      "tensor([[0, 0, 1, 0, 0, 0]])\n"
     ]
    }
   ],
   "source": [
    "# For prediction\n",
    "test_sent = [\"Lisa will come to Thailand on Sunday\",\"I met Jordan at the Washington airport\",'What did Anna do last night?']\n",
    "test_label = [[1,0,0,0,0,0,0],[0,0,1,0,0,0,0],[0,0,1,0,0,0]]\n",
    "test_batch = list(zip(test_sent,test_label))\n",
    "batch_size = 2\n",
    "print(test_batch)\n",
    "shuffle = True\n",
    "test_ld = DataLoader(test_batch,batch_size = batch_size,shuffle = shuffle,collate_fn = collate_fn)\n",
    "for x_batch, y_batch , _ in test_ld:\n",
    "  print(model(x_batch))\n",
    "  print(y_batch)"
   ]
  },
  {
   "cell_type": "code",
   "execution_count": null,
   "metadata": {},
   "outputs": [],
   "source": []
  }
 ],
 "metadata": {
  "colab": {
   "provenance": []
  },
  "kernelspec": {
   "display_name": "Python 3 (ipykernel)",
   "language": "python",
   "name": "python3"
  },
  "language_info": {
   "codemirror_mode": {
    "name": "ipython",
    "version": 3
   },
   "file_extension": ".py",
   "mimetype": "text/x-python",
   "name": "python",
   "nbconvert_exporter": "python",
   "pygments_lexer": "ipython3",
   "version": "3.8.10"
  }
 },
 "nbformat": 4,
 "nbformat_minor": 4
}
